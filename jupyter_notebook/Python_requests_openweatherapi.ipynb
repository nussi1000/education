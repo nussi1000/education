{
 "cells": [
  {
   "cell_type": "markdown",
   "id": "bad2ae82",
   "metadata": {},
   "source": [
    "# Requests Library & Openweather API\n",
    "Das folgende Code Beispiel zeigt dir, wie du die requests libraray mit der Openweather API verwendet kannst."
   ]
  },
  {
   "cell_type": "markdown",
   "id": "1052e9a0",
   "metadata": {},
   "source": [
    "Als erstes wird die requests Libraray in Python importiert."
   ]
  },
  {
   "cell_type": "code",
   "execution_count": 1,
   "id": "51118070",
   "metadata": {},
   "outputs": [],
   "source": [
    "import requests"
   ]
  },
  {
   "cell_type": "markdown",
   "id": "e2641ae6",
   "metadata": {},
   "source": [
    "Nun wird der API Key Definiert. Jupyter Notebook vergisst die Variablen nicht!"
   ]
  },
  {
   "cell_type": "code",
   "execution_count": 2,
   "id": "080951c0",
   "metadata": {},
   "outputs": [],
   "source": [
    "api_key = \"apikey\""
   ]
  },
  {
   "cell_type": "markdown",
   "id": "00ebbe17",
   "metadata": {},
   "source": [
    "Nun kannst du diese Variable immer wieder mit weiteren Commands verwenden"
   ]
  },
  {
   "cell_type": "code",
   "execution_count": 3,
   "id": "7447ea00",
   "metadata": {},
   "outputs": [],
   "source": [
    "city_name = 'Bern'\n",
    "\n",
    "base_url = \"http://api.openweathermap.org/data/2.5/weather?\"\n",
    "complete_url = base_url + \"appid=\" + api_key + \"&q=\" + city_name\n",
    "response = requests.get(complete_url)\n",
    "x = response.json()"
   ]
  },
  {
   "cell_type": "markdown",
   "id": "fd47334e",
   "metadata": {},
   "source": [
    "Folgend ist eine Ausgabe des JSON payload, welches von der API als Rückgabewert kommt."
   ]
  },
  {
   "cell_type": "code",
   "execution_count": 4,
   "id": "0d7ee7c8",
   "metadata": {},
   "outputs": [
    {
     "data": {
      "text/plain": [
       "{'coord': {'lon': 7.4474, 'lat': 46.9481},\n",
       " 'weather': [{'id': 803,\n",
       "   'main': 'Clouds',\n",
       "   'description': 'broken clouds',\n",
       "   'icon': '04d'}],\n",
       " 'base': 'stations',\n",
       " 'main': {'temp': 275.46,\n",
       "  'feels_like': 272.8,\n",
       "  'temp_min': 274.4,\n",
       "  'temp_max': 277.12,\n",
       "  'pressure': 1025,\n",
       "  'humidity': 90},\n",
       " 'visibility': 10000,\n",
       " 'wind': {'speed': 2.57, 'deg': 110},\n",
       " 'clouds': {'all': 75},\n",
       " 'dt': 1673337931,\n",
       " 'sys': {'type': 2,\n",
       "  'id': 19940,\n",
       "  'country': 'CH',\n",
       "  'sunrise': 1673334845,\n",
       "  'sunset': 1673366436},\n",
       " 'timezone': 3600,\n",
       " 'id': 2661552,\n",
       " 'name': 'Bern',\n",
       " 'cod': 200}"
      ]
     },
     "execution_count": 4,
     "metadata": {},
     "output_type": "execute_result"
    }
   ],
   "source": [
    "x"
   ]
  },
  {
   "cell_type": "markdown",
   "id": "3cf5b079",
   "metadata": {},
   "source": [
    "In der \"response\" Variable findest du den Rückgabecode der API Abfrage"
   ]
  },
  {
   "cell_type": "code",
   "execution_count": 11,
   "id": "39eb2f32",
   "metadata": {},
   "outputs": [
    {
     "data": {
      "text/plain": [
       "200"
      ]
     },
     "execution_count": 11,
     "metadata": {},
     "output_type": "execute_result"
    }
   ],
   "source": [
    "response.status_code"
   ]
  },
  {
   "cell_type": "code",
   "execution_count": null,
   "id": "54d138bd",
   "metadata": {},
   "outputs": [],
   "source": []
  }
 ],
 "metadata": {
  "kernelspec": {
   "display_name": "local-venv",
   "language": "python",
   "name": "local-venv"
  },
  "language_info": {
   "codemirror_mode": {
    "name": "ipython",
    "version": 3
   },
   "file_extension": ".py",
   "mimetype": "text/x-python",
   "name": "python",
   "nbconvert_exporter": "python",
   "pygments_lexer": "ipython3",
   "version": "3.10.0"
  }
 },
 "nbformat": 4,
 "nbformat_minor": 5
}
