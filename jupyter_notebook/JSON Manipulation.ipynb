{
 "cells": [
  {
   "cell_type": "code",
   "execution_count": 4,
   "metadata": {},
   "outputs": [],
   "source": [
    "#You can create your Key here: https://openweathermap.org/api\n",
    "\n",
    "# Enter your API key here\n",
    "api_key = \"ENTER KEY HERE\"\n",
    "\n",
    "#import modules\n",
    "import requests, json\n",
    "\n",
    "# base_url variable to store urls\n",
    "base_url = \"http://api.openweathermap.org/data/2.5/weather?\"\n",
    "\n",
    "city = 'Bern'\n",
    "\n",
    "# complete_url variable to store\n",
    "# complete url address\n",
    "complete_url = base_url + \"appid=\" + api_key + \"&q=\" + str(city)\n",
    "\n",
    "# get method of requests module\n",
    "# return response object\n",
    "response = requests.get(complete_url)\n",
    "\n",
    "# json method of response object\n",
    "# convert json format data into\n",
    "# python format data\n",
    "jsonresponse = response.json()"
   ]
  },
  {
   "cell_type": "code",
   "execution_count": 5,
   "metadata": {},
   "outputs": [
    {
     "name": "stdout",
     "output_type": "stream",
     "text": [
      "{\"coord\": {\"coordinates\": [7.4474, 46.9481]}, \"weather\": [{\"id\": 701, \"main\": \"Mist\", \"description\": \"mist\", \"icon\": \"50d\"}], \"base\": \"stations\", \"main\": {\"temp\": 268.15, \"feels_like\": 268.15, \"temp_min\": 265.1, \"temp_max\": 271.73, \"pressure\": 1032, \"humidity\": 84}, \"visibility\": 10000, \"wind\": {\"speed\": 0, \"deg\": 0}, \"clouds\": {\"all\": 6}, \"dt\": 1675928869, \"sys\": {\"type\": 1, \"id\": 6937, \"country\": \"CH\", \"sunrise\": 1675925090, \"sunset\": 1675961045}, \"timezone\": 3600, \"id\": 2661552, \"name\": \"Bern\", \"cod\": 200}\n"
     ]
    }
   ],
   "source": [
    "#print(jsonresponse)\n",
    "\n",
    "# Zusammenführen der Felder\n",
    "jsonresponse[\"coord\"][\"coordinates\"] = [jsonresponse[\"coord\"][\"lon\"], jsonresponse[\"coord\"][\"lat\"]]\n",
    "\n",
    "# Entfernen der alten Felder\n",
    "del jsonresponse[\"coord\"][\"lon\"]\n",
    "del jsonresponse[\"coord\"][\"lat\"]\n",
    "\n",
    "# Schreiben des JSON-Objekts in eine Datei\n",
    "with open(\"result.json\", \"w\") as f:\n",
    "    json.dump(jsonresponse, f)\n",
    "\n",
    "# Überprüfung des Inhalts der Datei\n",
    "with open(\"result.json\", \"r\") as f:\n",
    "    print(f.read())\n",
    "\n",
    "\n",
    "\n",
    "\n"
   ]
  }
 ],
 "metadata": {
  "kernelspec": {
   "display_name": "Python 3",
   "language": "python",
   "name": "python3"
  },
  "language_info": {
   "codemirror_mode": {
    "name": "ipython",
    "version": 3
   },
   "file_extension": ".py",
   "mimetype": "text/x-python",
   "name": "python",
   "nbconvert_exporter": "python",
   "pygments_lexer": "ipython3",
   "version": "3.10.10"
  },
  "orig_nbformat": 4,
  "vscode": {
   "interpreter": {
    "hash": "47e86e659cc4c7e7c8281f4dfa198d26eba569ed7d4f5779d5419dff2bd0d92c"
   }
  }
 },
 "nbformat": 4,
 "nbformat_minor": 2
}
